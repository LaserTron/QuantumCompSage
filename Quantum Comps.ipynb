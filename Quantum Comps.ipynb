{
 "cells": [
  {
   "cell_type": "code",
   "execution_count": 1,
   "metadata": {
    "collapsed": true
   },
   "outputs": [],
   "source": [
    "#Using sage gives me a bunch of errors\n",
    "import warnings\n",
    "warnings.simplefilter('ignore')"
   ]
  },
  {
   "cell_type": "code",
   "execution_count": 13,
   "metadata": {},
   "outputs": [
    {
     "data": {
      "text/html": [
       "<html><script type=\"math/tex; mode=display\">\\newcommand{\\Bold}[1]{\\mathbf{#1}}\\left(\\begin{array}{rr}\n",
       "\\frac{1}{2} \\, \\sqrt{2} & \\frac{1}{2} \\, \\sqrt{2} \\\\\n",
       "\\frac{1}{2} \\, \\sqrt{2} & -\\frac{1}{2} \\, \\sqrt{2}\n",
       "\\end{array}\\right)</script></html>"
      ],
      "text/plain": [
       "[ 1/2*sqrt(2)  1/2*sqrt(2)]\n",
       "[ 1/2*sqrt(2) -1/2*sqrt(2)]"
      ]
     },
     "metadata": {},
     "output_type": "display_data"
    },
    {
     "data": {
      "text/html": [
       "<html><script type=\"math/tex; mode=display\">\\newcommand{\\Bold}[1]{\\mathbf{#1}}\\left(\\begin{array}{rrrr}\n",
       "1 & 0 & 0 & 0 \\\\\n",
       "0 & 1 & 0 & 0 \\\\\n",
       "0 & 0 & 0 & 1 \\\\\n",
       "0 & 0 & 1 & 0\n",
       "\\end{array}\\right)</script></html>"
      ],
      "text/plain": [
       "[1 0 0 0]\n",
       "[0 1 0 0]\n",
       "[0 0 0 1]\n",
       "[0 0 1 0]"
      ]
     },
     "metadata": {},
     "output_type": "display_data"
    },
    {
     "data": {
      "text/html": [
       "<html><script type=\"math/tex; mode=display\">\\newcommand{\\Bold}[1]{\\mathbf{#1}}\\left(\\begin{array}{rr}\n",
       "0 & 1 \\\\\n",
       "1 & 0\n",
       "\\end{array}\\right)</script></html>"
      ],
      "text/plain": [
       "[0 1]\n",
       "[1 0]"
      ]
     },
     "metadata": {},
     "output_type": "display_data"
    },
    {
     "data": {
      "text/html": [
       "<html><script type=\"math/tex; mode=display\">\\newcommand{\\Bold}[1]{\\mathbf{#1}}\\left(\\begin{array}{rr}\n",
       "1 & 0 \\\\\n",
       "0 & 1\n",
       "\\end{array}\\right)</script></html>"
      ],
      "text/plain": [
       "[1 0]\n",
       "[0 1]"
      ]
     },
     "metadata": {},
     "output_type": "display_data"
    },
    {
     "data": {
      "text/html": [
       "<html><script type=\"math/tex; mode=display\">\\newcommand{\\Bold}[1]{\\mathbf{#1}}\\left(\\begin{array}{rrrrrr|rr}\n",
       "1 & 0 & 0 & 0 & 0 & 0 & 0 & 0 \\\\\n",
       "0 & 1 & 0 & 0 & 0 & 0 & 0 & 0 \\\\\n",
       "0 & 0 & 1 & 0 & 0 & 0 & 0 & 0 \\\\\n",
       "0 & 0 & 0 & 1 & 0 & 0 & 0 & 0 \\\\\n",
       "0 & 0 & 0 & 0 & 1 & 0 & 0 & 0 \\\\\n",
       "0 & 0 & 0 & 0 & 0 & 1 & 0 & 0 \\\\\n",
       "\\hline\n",
       " 0 & 0 & 0 & 0 & 0 & 0 & 0 & 1 \\\\\n",
       "0 & 0 & 0 & 0 & 0 & 0 & 1 & 0\n",
       "\\end{array}\\right)</script></html>"
      ],
      "text/plain": [
       "[1 0 0 0 0 0|0 0]\n",
       "[0 1 0 0 0 0|0 0]\n",
       "[0 0 1 0 0 0|0 0]\n",
       "[0 0 0 1 0 0|0 0]\n",
       "[0 0 0 0 1 0|0 0]\n",
       "[0 0 0 0 0 1|0 0]\n",
       "[-----------+---]\n",
       "[0 0 0 0 0 0|0 1]\n",
       "[0 0 0 0 0 0|1 0]"
      ]
     },
     "metadata": {},
     "output_type": "display_data"
    }
   ],
   "source": [
    "H=1/sqrt(2)*matrix([[1,1],[1,-1]])\n",
    "show(H)\n",
    "CNOT = matrix([[1,0,0,0],[0,1,0,0],[0,0,0,1],[0,0,1,0]])\n",
    "show(CNOT)\n",
    "X=matrix([[0,1],[1,0]])\n",
    "Z=matrix([[1,0],[0,1]])\n",
    "show(X)\n",
    "show(Z)\n",
    "CCNOT = block_diagonal_matrix(Id(6),X)\n",
    "show(CCNOT)"
   ]
  },
  {
   "cell_type": "code",
   "execution_count": 5,
   "metadata": {},
   "outputs": [],
   "source": [
    "def strToBin(s):\n",
    "    \"Outputs the integer from binary representation from a string of 0s and 1s\"\n",
    "    l=list(s)\n",
    "    e=0\n",
    "    output=0\n",
    "    try:\n",
    "        while(true):\n",
    "            c=l.pop()\n",
    "            if c == '1':\n",
    "                output=output+2^e\n",
    "            e=e+1\n",
    "    except IndexError:\n",
    "        return output\n",
    "\n",
    "def compBasisElt(s):\n",
    "    \"Outputs the standard vector in the computational basis\"\n",
    "    l=len(s)\n",
    "    tup = [0]*(2^l) #woa\n",
    "    n=strToBin(s)\n",
    "    tup[n]=1\n",
    "    return vector(tup)\n",
    "\n",
    "Id = lambda n: identity_matrix(n)\n",
    "ket = lambda s : compBasisElt(s).column()\n",
    "bra = lambda s : ket(s).transpose()\n",
    "tProd = lambda x,y : x.tensor_product(y)\n",
    "rowShow = lambda x: show(x.transpose())\n",
    "\n",
    "def tensorProduct(l):\n",
    "    \"Computes the tensor product from a list\"\n",
    "    output = l.pop()\n",
    "    try:\n",
    "        while True:\n",
    "            output=tProd(l.pop(),output)\n",
    "    except IndexError:\n",
    "        return output\n",
    "\n",
    "def projMeas(s):\n",
    "    \"Used for the projective measure onto a certain collapse\"\n",
    "    return ket(s)*bra(s)\n",
    "\n",
    "#def diagBlock(l)\n",
    "#    \"Makes a block diagonal matric from a list of square matrices\""
   ]
  },
  {
   "cell_type": "code",
   "execution_count": 14,
   "metadata": {},
   "outputs": [
    {
     "data": {
      "text/html": [
       "<html><script type=\"math/tex; mode=display\">\\newcommand{\\Bold}[1]{\\mathbf{#1}}\\left(\\begin{array}{r}\n",
       "0 \\\\\n",
       "0 \\\\\n",
       "0 \\\\\n",
       "0 \\\\\n",
       "0 \\\\\n",
       "1 \\\\\n",
       "0 \\\\\n",
       "0\n",
       "\\end{array}\\right)</script></html>"
      ],
      "text/plain": [
       "[0]\n",
       "[0]\n",
       "[0]\n",
       "[0]\n",
       "[0]\n",
       "[1]\n",
       "[0]\n",
       "[0]"
      ]
     },
     "metadata": {},
     "output_type": "display_data"
    }
   ],
   "source": [
    "show(ket(\"101\"))"
   ]
  },
  {
   "cell_type": "code",
   "execution_count": 15,
   "metadata": {},
   "outputs": [
    {
     "data": {
      "text/html": [
       "<html><script type=\"math/tex; mode=display\">\\newcommand{\\Bold}[1]{\\mathbf{#1}}\\left(\\begin{array}{rrrr|rrrr}\n",
       "\\frac{1}{2} \\, \\sqrt{2} a & 0 & 0 & \\frac{1}{2} \\, \\sqrt{2} a & \\frac{1}{2} \\, \\sqrt{2} b & 0 & 0 & \\frac{1}{2} \\, \\sqrt{2} b\n",
       "\\end{array}\\right)</script></html>"
      ],
      "text/plain": [
       "[1/2*sqrt(2)*a             0             0 1/2*sqrt(2)*a|1/2*sqrt(2)*b             0             0 1/2*sqrt(2)*b]"
      ]
     },
     "metadata": {},
     "output_type": "display_data"
    },
    {
     "data": {
      "text/html": [
       "<html><script type=\"math/tex; mode=display\">\\newcommand{\\Bold}[1]{\\mathbf{#1}}\\left(\\begin{array}{rr|rr|rr|rr}\n",
       "1 & 0 & 0 & 0 & 0 & 0 & 0 & 0 \\\\\n",
       "0 & 1 & 0 & 0 & 0 & 0 & 0 & 0 \\\\\n",
       "\\hline\n",
       " 0 & 0 & 1 & 0 & 0 & 0 & 0 & 0 \\\\\n",
       "0 & 0 & 0 & 1 & 0 & 0 & 0 & 0 \\\\\n",
       "\\hline\n",
       " 0 & 0 & 0 & 0 & 0 & 0 & 1 & 0 \\\\\n",
       "0 & 0 & 0 & 0 & 0 & 0 & 0 & 1 \\\\\n",
       "\\hline\n",
       " 0 & 0 & 0 & 0 & 1 & 0 & 0 & 0 \\\\\n",
       "0 & 0 & 0 & 0 & 0 & 1 & 0 & 0\n",
       "\\end{array}\\right)</script></html>"
      ],
      "text/plain": [
       "[1 0|0 0|0 0|0 0]\n",
       "[0 1|0 0|0 0|0 0]\n",
       "[---+---+---+---]\n",
       "[0 0|1 0|0 0|0 0]\n",
       "[0 0|0 1|0 0|0 0]\n",
       "[---+---+---+---]\n",
       "[0 0|0 0|0 0|1 0]\n",
       "[0 0|0 0|0 0|0 1]\n",
       "[---+---+---+---]\n",
       "[0 0|0 0|1 0|0 0]\n",
       "[0 0|0 0|0 1|0 0]"
      ]
     },
     "metadata": {},
     "output_type": "display_data"
    },
    {
     "data": {
      "text/html": [
       "<html><script type=\"math/tex; mode=display\">\\newcommand{\\Bold}[1]{\\mathbf{#1}}\\left(\\begin{array}{rrrrrrrr}\n",
       "\\frac{1}{2} \\, \\sqrt{2} a & 0 & 0 & \\frac{1}{2} \\, \\sqrt{2} a & 0 & \\frac{1}{2} \\, \\sqrt{2} b & \\frac{1}{2} \\, \\sqrt{2} b & 0\n",
       "\\end{array}\\right)</script></html>"
      ],
      "text/plain": [
       "[1/2*sqrt(2)*a             0             0 1/2*sqrt(2)*a             0 1/2*sqrt(2)*b 1/2*sqrt(2)*b             0]"
      ]
     },
     "metadata": {},
     "output_type": "display_data"
    },
    {
     "data": {
      "text/html": [
       "<html><script type=\"math/tex; mode=display\">\\newcommand{\\Bold}[1]{\\mathbf{#1}}\\left(\\begin{array}{rrrr|rrrr}\n",
       "\\frac{1}{2} \\, \\sqrt{2} & 0 & 0 & 0 & \\frac{1}{2} \\, \\sqrt{2} & 0 & 0 & 0 \\\\\n",
       "0 & \\frac{1}{2} \\, \\sqrt{2} & 0 & 0 & 0 & \\frac{1}{2} \\, \\sqrt{2} & 0 & 0 \\\\\n",
       "0 & 0 & \\frac{1}{2} \\, \\sqrt{2} & 0 & 0 & 0 & \\frac{1}{2} \\, \\sqrt{2} & 0 \\\\\n",
       "0 & 0 & 0 & \\frac{1}{2} \\, \\sqrt{2} & 0 & 0 & 0 & \\frac{1}{2} \\, \\sqrt{2} \\\\\n",
       "\\hline\n",
       " \\frac{1}{2} \\, \\sqrt{2} & 0 & 0 & 0 & -\\frac{1}{2} \\, \\sqrt{2} & 0 & 0 & 0 \\\\\n",
       "0 & \\frac{1}{2} \\, \\sqrt{2} & 0 & 0 & 0 & -\\frac{1}{2} \\, \\sqrt{2} & 0 & 0 \\\\\n",
       "0 & 0 & \\frac{1}{2} \\, \\sqrt{2} & 0 & 0 & 0 & -\\frac{1}{2} \\, \\sqrt{2} & 0 \\\\\n",
       "0 & 0 & 0 & \\frac{1}{2} \\, \\sqrt{2} & 0 & 0 & 0 & -\\frac{1}{2} \\, \\sqrt{2}\n",
       "\\end{array}\\right)</script></html>"
      ],
      "text/plain": [
       "[ 1/2*sqrt(2)            0            0            0| 1/2*sqrt(2)            0            0            0]\n",
       "[           0  1/2*sqrt(2)            0            0|           0  1/2*sqrt(2)            0            0]\n",
       "[           0            0  1/2*sqrt(2)            0|           0            0  1/2*sqrt(2)            0]\n",
       "[           0            0            0  1/2*sqrt(2)|           0            0            0  1/2*sqrt(2)]\n",
       "[---------------------------------------------------+---------------------------------------------------]\n",
       "[ 1/2*sqrt(2)            0            0            0|-1/2*sqrt(2)            0            0            0]\n",
       "[           0  1/2*sqrt(2)            0            0|           0 -1/2*sqrt(2)            0            0]\n",
       "[           0            0  1/2*sqrt(2)            0|           0            0 -1/2*sqrt(2)            0]\n",
       "[           0            0            0  1/2*sqrt(2)|           0            0            0 -1/2*sqrt(2)]"
      ]
     },
     "metadata": {},
     "output_type": "display_data"
    },
    {
     "data": {
      "text/html": [
       "<html><script type=\"math/tex; mode=display\">\\newcommand{\\Bold}[1]{\\mathbf{#1}}\\left(\\begin{array}{rrrrrrrr}\n",
       "\\frac{1}{2} \\, a & \\frac{1}{2} \\, b & \\frac{1}{2} \\, b & \\frac{1}{2} \\, a & \\frac{1}{2} \\, a & -\\frac{1}{2} \\, b & -\\frac{1}{2} \\, b & \\frac{1}{2} \\, a\n",
       "\\end{array}\\right)</script></html>"
      ],
      "text/plain": [
       "[ 1/2*a  1/2*b  1/2*b  1/2*a  1/2*a -1/2*b -1/2*b  1/2*a]"
      ]
     },
     "metadata": {},
     "output_type": "display_data"
    }
   ],
   "source": [
    "#Quandum teleportation\n",
    "var('a','b')\n",
    "S= (a*ket(\"0\")+b*ket(\"1\")).tensor_product((1/sqrt(2))*(ket(\"00\")+ket(\"11\")))\n",
    "rowShow(S)\n",
    "T_1 = tProd(CNOT,Id(2))\n",
    "show(T_1)\n",
    "rowShow(T_1*S)\n",
    "T_2 = tProd(H,Id(4))\n",
    "show(T_2)\n",
    "rowShow(T_2*T_1*S)"
   ]
  },
  {
   "cell_type": "code",
   "execution_count": 17,
   "metadata": {},
   "outputs": [
    {
     "data": {
      "text/html": [
       "<html><script type=\"math/tex; mode=display\">\\newcommand{\\Bold}[1]{\\mathbf{#1}}\\left(\\begin{array}{r}\n",
       "0 \\\\\n",
       "0 \\\\\n",
       "0 \\\\\n",
       "0 \\\\\n",
       "0 \\\\\n",
       "0 \\\\\n",
       "-\\frac{1}{2} \\, b \\\\\n",
       "\\frac{1}{2} \\, a\n",
       "\\end{array}\\right)</script></html>"
      ],
      "text/plain": [
       "[     0]\n",
       "[     0]\n",
       "[     0]\n",
       "[     0]\n",
       "[     0]\n",
       "[     0]\n",
       "[-1/2*b]\n",
       "[ 1/2*a]"
      ]
     },
     "metadata": {},
     "output_type": "display_data"
    }
   ],
   "source": [
    "show(projMeas(\"11\").tensor_product(Id(2))*T_2*T_1*S)"
   ]
  },
  {
   "cell_type": "code",
   "execution_count": 18,
   "metadata": {},
   "outputs": [
    {
     "data": {
      "text/html": [
       "<html><script type=\"math/tex; mode=display\">\\newcommand{\\Bold}[1]{\\mathbf{#1}}\\left(\\begin{array}{r}\n",
       "\\frac{1}{4} \\, \\sqrt{2} \\\\\n",
       "\\frac{1}{4} \\, \\sqrt{2} \\\\\n",
       "-\\frac{1}{4} \\, \\sqrt{2} \\\\\n",
       "-\\frac{1}{4} \\, \\sqrt{2} \\\\\n",
       "\\frac{1}{4} \\, \\sqrt{2} \\\\\n",
       "\\frac{1}{4} \\, \\sqrt{2} \\\\\n",
       "-\\frac{1}{4} \\, \\sqrt{2} \\\\\n",
       "-\\frac{1}{4} \\, \\sqrt{2}\n",
       "\\end{array}\\right)</script></html>"
      ],
      "text/plain": [
       "[ 1/4*sqrt(2)]\n",
       "[ 1/4*sqrt(2)]\n",
       "[-1/4*sqrt(2)]\n",
       "[-1/4*sqrt(2)]\n",
       "[ 1/4*sqrt(2)]\n",
       "[ 1/4*sqrt(2)]\n",
       "[-1/4*sqrt(2)]\n",
       "[-1/4*sqrt(2)]"
      ]
     },
     "metadata": {},
     "output_type": "display_data"
    }
   ],
   "source": [
    "Hx3 = tensorProduct([H,H,H])\n",
    "show(Hx3*ket(\"010\"))"
   ]
  },
  {
   "cell_type": "code",
   "execution_count": null,
   "metadata": {
    "collapsed": true
   },
   "outputs": [],
   "source": []
  }
 ],
 "metadata": {
  "kernelspec": {
   "display_name": "SageMath 8.0",
   "language": "",
   "name": "sagemath"
  },
  "language_info": {
   "codemirror_mode": {
    "name": "ipython",
    "version": 2
   },
   "file_extension": ".py",
   "mimetype": "text/x-python",
   "name": "python",
   "nbconvert_exporter": "python",
   "pygments_lexer": "ipython2",
   "version": "2.7.14"
  }
 },
 "nbformat": 4,
 "nbformat_minor": 2
}
